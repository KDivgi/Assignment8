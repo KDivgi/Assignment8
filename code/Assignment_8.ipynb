{
  "nbformat": 4,
  "nbformat_minor": 0,
  "metadata": {
    "colab": {
      "provenance": []
    },
    "kernelspec": {
      "name": "python3",
      "display_name": "Python 3"
    },
    "language_info": {
      "name": "python"
    }
  },
  "cells": [
    {
      "cell_type": "markdown",
      "source": [
        "Importing relevant libraries:"
      ],
      "metadata": {
        "id": "MjkugmoS_O6_"
      }
    },
    {
      "cell_type": "code",
      "execution_count": 2,
      "metadata": {
        "id": "G9DfrF2JDUPe"
      },
      "outputs": [],
      "source": [
        "import pandas as pd\n",
        "import seaborn as sns\n",
        "import matplotlib.pyplot as plt\n",
        "import numpy as np\n",
        "import scipy.stats as stats"
      ]
    },
    {
      "cell_type": "markdown",
      "source": [
        "Creating .gitignore"
      ],
      "metadata": {
        "id": "HlKEL6M6_6Sx"
      }
    },
    {
      "cell_type": "code",
      "source": [
        "%%bash\n",
        "cat > .gitignore\n",
        ".*\n",
        ".gitignore"
      ],
      "metadata": {
        "id": "b9N69aKd3joe"
      },
      "execution_count": 185,
      "outputs": []
    },
    {
      "cell_type": "markdown",
      "source": [
        "Converting /content into git repository"
      ],
      "metadata": {
        "id": "9RRxiHkHAHoY"
      }
    },
    {
      "cell_type": "code",
      "source": [
        "%%bash\n",
        "git init"
      ],
      "metadata": {
        "colab": {
          "base_uri": "https://localhost:8080/"
        },
        "id": "wiZAziEo31XW",
        "outputId": "f8f6f5da-4501-4939-cf6b-0fb5b61d1830"
      },
      "execution_count": 186,
      "outputs": [
        {
          "output_type": "stream",
          "name": "stdout",
          "text": [
            "Initialized empty Git repository in /content/.git/\n"
          ]
        },
        {
          "output_type": "stream",
          "name": "stderr",
          "text": [
            "hint: Using 'master' as the name for the initial branch. This default branch name\n",
            "hint: is subject to change. To configure the initial branch name to use in all\n",
            "hint: of your new repositories, which will suppress this warning, call:\n",
            "hint: \n",
            "hint: \tgit config --global init.defaultBranch <name>\n",
            "hint: \n",
            "hint: Names commonly chosen instead of 'master' are 'main', 'trunk' and\n",
            "hint: 'development'. The just-created branch can be renamed via this command:\n",
            "hint: \n",
            "hint: \tgit branch -m <name>\n"
          ]
        }
      ]
    },
    {
      "cell_type": "markdown",
      "source": [
        "Creating GitHub file structure:"
      ],
      "metadata": {
        "id": "vI1M5qgMCM6g"
      }
    },
    {
      "cell_type": "code",
      "source": [
        "%%bash\n",
        "rm -r sample_data"
      ],
      "metadata": {
        "id": "iAEyVX9NCMhD"
      },
      "execution_count": 171,
      "outputs": []
    },
    {
      "cell_type": "code",
      "source": [
        "%%bash\n",
        "cat > README.md\n",
        "This is repository for the figures and analyses created towards the completion of Assignment 8 of CXPT 501 Biomedical Data Science.\n",
        "The following directories contain the original data, publication ready figures, a probability matrix and code."
      ],
      "metadata": {
        "id": "aMrRiqIYAV_J"
      },
      "execution_count": 172,
      "outputs": []
    },
    {
      "cell_type": "code",
      "source": [
        "%%bash\n",
        "mkdir startingdata\n",
        "mkdir figures\n",
        "mkdir statistics\n",
        "mkdir code"
      ],
      "metadata": {
        "id": "9ewQW7OMGj_X"
      },
      "execution_count": 174,
      "outputs": []
    },
    {
      "cell_type": "markdown",
      "source": [
        "Defining filepaths for data and output:"
      ],
      "metadata": {
        "id": "e0sz3hPI_rLI"
      }
    },
    {
      "cell_type": "code",
      "source": [
        "csvfilepath = 'https://drive.google.com/uc?export=download&id=1M0ZFQ09JPZGPm0cVJ0gXwENSgwf84cd2'\n",
        "fig1output = '/content/figures/WHFbytreatmentgroup.pdf'\n",
        "fig2output = '/content/figures/CREATbytreatmentgroupbyagegroup.pdf'\n",
        "probmatrixoutput = '/content/statistics/probofdyingbytreatment.csv'\n",
        "startingdataoutput = '/content/startingdata/fulldata.csv'"
      ],
      "metadata": {
        "id": "S7MghJcRFlDi"
      },
      "execution_count": 182,
      "outputs": []
    },
    {
      "cell_type": "markdown",
      "source": [
        "Loading data:"
      ],
      "metadata": {
        "id": "fuEIvon8_wVU"
      }
    },
    {
      "cell_type": "code",
      "source": [
        "#setting context to view all rows and columns\n",
        "pd.set_option('display.max_rows', 10, 'display.max_columns', 10)"
      ],
      "metadata": {
        "id": "XZJtV60lFryo"
      },
      "execution_count": 4,
      "outputs": []
    },
    {
      "cell_type": "code",
      "source": [
        "df = pd.read_csv(csvfilepath)\n",
        "df"
      ],
      "metadata": {
        "id": "fWhSo_kWFxT6"
      },
      "execution_count": null,
      "outputs": []
    },
    {
      "cell_type": "markdown",
      "source": [
        "Creating lists of data based on data type:"
      ],
      "metadata": {
        "id": "zwIDT_jMKuFq"
      }
    },
    {
      "cell_type": "code",
      "source": [
        "pd.set_option('display.max_rows', None, 'display.max_columns', 10)"
      ],
      "metadata": {
        "id": "BysKkujtF7TQ"
      },
      "execution_count": 6,
      "outputs": []
    },
    {
      "cell_type": "code",
      "source": [
        "#checking data types\n",
        "df.dtypes"
      ],
      "metadata": {
        "id": "dXKg2YGwbl01"
      },
      "execution_count": null,
      "outputs": []
    },
    {
      "cell_type": "code",
      "source": [
        "# continous data\n",
        "contdata = ['EJF_PER','CHESTX','CREAT','KLEVEL','BMI']\n",
        "\n",
        "# discrete data\n",
        "discrtdata = ['AGE','CHFDUR','HEARTRTE','DIABP','SYSBP','WHFDAYS','DIGDAYS','MIDAYS','UANGDAYS','STRKDAYS','SVADAYS','VENADAYS','CREVDAYS','OCVDDAYS','RINFDAYS','OTHDAYS',\n",
        "              'HOSPDAYS','NHOSP','DWHFDAYS']\n",
        "\n",
        "# categorical data\n",
        "catdata = ['TRTMT','RACE','SEX','RALES','ELEVJVP','PEDEMA','RESTDYS','EXERTDYS','ACTLIMIT','S3','PULCONG','NSYM','FUNCTCLS','CHFETIOL','PREVMI','ANGINA','DIABETES','HYPERTEN',\n",
        "           'DIGUSE','DIURETK','DIURET','KSUPP','ACEINHIB','NITRATES','HYDRAL','VASOD','DIGDOSE','WHF','DIG','MI','UANG','STRK','SVA','VENA','CREV','CREV','OCVD','RINF','OTH',\n",
        "           'DEATH','REASON','HOSP','DWHF']"
      ],
      "metadata": {
        "id": "1OGU0FSvF9Jl"
      },
      "execution_count": 8,
      "outputs": []
    },
    {
      "cell_type": "markdown",
      "source": [
        "Checking for and cleaning missing data:"
      ],
      "metadata": {
        "id": "3yXt8nXgA6hM"
      }
    },
    {
      "cell_type": "code",
      "source": [
        "# cleaning missing data for continuous variables by dropping all rows with NaNs\n",
        "df1 = df.dropna(how='any', subset=contdata)\n",
        "print(df1.isnull().sum())\n",
        "df1 = df1.reset_index(drop=True)"
      ],
      "metadata": {
        "id": "ajgECn4rGNeq"
      },
      "execution_count": null,
      "outputs": []
    },
    {
      "cell_type": "code",
      "source": [
        "# cleaning missing data for discrete variables by dropping all rows with NaNs\n",
        "df1 = df1.dropna(how='any',subset=discrtdata)\n",
        "print(df1.isnull().sum())\n",
        "df1 = df1.reset_index(drop=True)"
      ],
      "metadata": {
        "id": "5QJbwFCJGPxU"
      },
      "execution_count": null,
      "outputs": []
    },
    {
      "cell_type": "code",
      "source": [
        "# cleaning missing data for categorical data by replacing all NaNs with 'Not given'\n",
        "df1 = df1.fillna('Not given')\n",
        "print(df1.isnull().sum())\n",
        "df1 = df1.reset_index(drop=True)"
      ],
      "metadata": {
        "id": "WzEMrkYwGRlY"
      },
      "execution_count": null,
      "outputs": []
    },
    {
      "cell_type": "markdown",
      "source": [
        "Creating a new column showing geriatric status based on age:<br>\n",
        "0 - age less than 65<br>\n",
        "1 - age greater than or equal too 65"
      ],
      "metadata": {
        "id": "c3uPvKGOG83p"
      }
    },
    {
      "cell_type": "code",
      "source": [
        "df1.loc[(df['AGE'] >= 65), 'AGEGRP'] = 1\n",
        "df1.loc[(df['AGE'] < 65), 'AGEGRP'] = 0\n",
        "#adding 'AGEGRP' to the list of categorical data\n",
        "catdata.append('AGEGRP')\n",
        "\n",
        "#saving the dataframe as start data\n",
        "df1.to_csv(startingdataoutput, index=False)"
      ],
      "metadata": {
        "id": "OBKi-DQDHTHX"
      },
      "execution_count": 183,
      "outputs": []
    },
    {
      "cell_type": "markdown",
      "source": [
        "Defining functions"
      ],
      "metadata": {
        "id": "OlliqsX3nRtG"
      }
    },
    {
      "cell_type": "code",
      "source": [
        "#Write a function that will remove outliers from the data given columns or list of columns\n",
        "def removeoutliers(method,data,columnlist):\n",
        "  '''\n",
        "  This function removes outliers from a dataset.\n",
        "  Outliers are defined as values that fall outside of 3 standard deviations of the data spread.\n",
        "\n",
        "  Args:\n",
        "  method - 'list' if removing outliers from a list of columns, 'single' if removing outliers from a single column\n",
        "  data - This is a Pandas DataFrame\n",
        "  columnlist - this is a list of all the columns from which outliers need to be removed.\n",
        "  '''\n",
        "  #condition for removing outliers from a single column\n",
        "  if method == 'single':\n",
        "    #creates a column to store deviations from mean\n",
        "    data['STD_MEAN'] = (data[columnlist] - data[columnlist].mean()) / data[columnlist].std()\n",
        "    #saves values greater than 3 SDs to variable 'outliers'\n",
        "    outliers = data[columnlist].loc[(data['STD_MEAN'] < -3) | (data['STD_MEAN'] > 3)]\n",
        "    #prints the column name and outliers found\n",
        "    print(columnlist,outliers)\n",
        "    #drops the outliers from the table\n",
        "    data = data.drop(outliers.index)\n",
        "    #resets the index of the table\n",
        "    data = data.reset_index(drop=True)\n",
        "\n",
        "  #condition for removing outliers from a list of columns\n",
        "  elif method == 'list':\n",
        "    #generates the number of iterations\n",
        "    for each in range(0,len(columnlist)):\n",
        "      #the current column which is being edited\n",
        "      current = columnlist[each]\n",
        "      #creates a column to store deviations from mean\n",
        "      data['STD_MEAN'] = (data[current] - data[current].mean()) / data[current].std()\n",
        "      #saves values greater than 3 SDs to variable 'outliers'\n",
        "      outliers = data[current].loc[(data['STD_MEAN'] < -3) | (data['STD_MEAN'] > 3)]\n",
        "      #prints the column name and outliers found\n",
        "      print(current,outliers)\n",
        "      #drops the outliers from the table\n",
        "      data = data.drop(outliers.index)\n",
        "      #resets the index of the table\n",
        "      data = data.reset_index(drop=True)\n",
        "\n",
        "  #removes the column used to store deviations from mean\n",
        "  data = data.drop(['STD_MEAN'], axis=1)\n",
        "  #returns the dataframe with outlier values removed\n",
        "  return data\n",
        "  #prints the new dataframe\n",
        "  print(data)"
      ],
      "metadata": {
        "id": "xYZUO9UPnFPX"
      },
      "execution_count": 13,
      "outputs": []
    },
    {
      "cell_type": "code",
      "source": [
        "# write a function that will loop through your count matrix and convert each count into a probability and enter it into the matrix for a probability matrix\n",
        "\n",
        "def probabilitycrosstab(matrix):\n",
        "  '''This function will convert your count matrix into a probability matrix.\n",
        "\n",
        "  Args:\n",
        "  matrix - this is a pandas DataFrame countaining a count matrix created using the pd.crosstab() function on an imported DataFrame. The crosstab must have margins.\n",
        "\n",
        "  Returns:\n",
        "  p_matrix - this is a pandas DataFrame containing a probability matrix.\n",
        "  '''\n",
        "  p_matrix = matrix.copy() # make a copy of the argument DataFrame on which to transform data\n",
        "  total = matrix.iloc[len(matrix.index) - 1,len(matrix) - 1] # provide the total number of subjects/values to use as a denominator for all probabilities retrieved\n",
        "\n",
        "  '''This section will systematically go through every cell from left to right column starting at the top row. Probabilities of each cell will be calculated by the total.\n",
        "  The probabilities will be added to the matrix'''\n",
        "  for x in range(0,len(matrix.index)): # provide number of iterations to loop through each row\n",
        "    for y in range(0,len(matrix)): # provide number of iterations to loop through each column\n",
        "      prob_each = matrix.iloc[x,y]/total # calculate the probability of each cell using previously defined probability() function\n",
        "      p_matrix.iloc[x,y] = prob_each # enter the calculated probability into the correct cell in the matrix\n",
        "\n",
        "  p_matrix.iloc[len(matrix.index) - 1,len(matrix) - 1] = 1.00 # assigns the probability of the total of the matrix which is always 1.00\n",
        "  return p_matrix # returns the transformed probability matrix"
      ],
      "metadata": {
        "id": "VVvuil2SEKlg"
      },
      "execution_count": 168,
      "outputs": []
    },
    {
      "cell_type": "markdown",
      "source": [
        "Comparing the number of deaths in the placebo and treatment groups stratified by presence of worsening heart failure."
      ],
      "metadata": {
        "id": "KZzKSxcjSvIY"
      }
    },
    {
      "cell_type": "code",
      "source": [
        "ax = sns.countplot(data=df1, x='TRTMT', hue='WHF')\n",
        "ax.legend(title='Worsening Heart Failure', labels=['No', 'Yes'], bbox_to_anchor=(1, 0.5))\n",
        "ax.set(xlabel = 'Type of Intervention', ylabel = 'No. of patients')\n",
        "plt.xticks(ticks=[0,1], labels=['Placebo','Digoxin'])\n",
        "sns.set(style='whitegrid')\n",
        "sns.despine()\n",
        "sns.set_context('paper')\n",
        "plt.savefig(fig1output, bbox_inches='tight')"
      ],
      "metadata": {
        "colab": {
          "base_uri": "https://localhost:8080/",
          "height": 458
        },
        "id": "N11O4_VbTCU7",
        "outputId": "1522bb7e-1d4f-4504-fc92-1740dc2cca58"
      },
      "execution_count": 176,
      "outputs": [
        {
          "output_type": "display_data",
          "data": {
            "text/plain": [
              "<Figure size 640x480 with 1 Axes>"
            ],
            "image/png": "[encoded data removed]"
          },
          "metadata": {}
        }
      ]
    },
    {
      "cell_type": "markdown",
      "source": [
        "Comparing creatinine levels between treatment groups split by age group:"
      ],
      "metadata": {
        "id": "2eBbUyWfMoa6"
      }
    },
    {
      "cell_type": "code",
      "source": [
        "sns.reset_orig()\n",
        "#checking for data spread and potential outliers\n",
        "sns.boxplot(y=df1['CREAT'])"
      ],
      "metadata": {
        "colab": {
          "base_uri": "https://localhost:8080/",
          "height": 428
        },
        "id": "S_nZXtMSM-xL",
        "outputId": "2b4eea7c-076a-487b-dc19-7ea998e7155b"
      },
      "execution_count": 88,
      "outputs": [
        {
          "output_type": "execute_result",
          "data": {
            "text/plain": [
              "<Axes: ylabel='CREAT'>"
            ]
          },
          "metadata": {},
          "execution_count": 88
        },
        {
          "output_type": "display_data",
          "data": {
            "text/plain": [
              "<Figure size 640x480 with 1 Axes>"
            ],
            "image/png": "[encoded data removed]"
          },
          "metadata": {}
        }
      ]
    },
    {
      "cell_type": "code",
      "source": [
        "#removing outliers in CREAT using standard deviation method\n",
        "df2 = removeoutliers('single',df1,'CREAT')"
      ],
      "metadata": {
        "id": "mBM7_cAxNTES"
      },
      "execution_count": null,
      "outputs": []
    },
    {
      "cell_type": "code",
      "source": [
        "sns.set_context('notebook')\n",
        "sns.set(style='darkgrid')\n",
        "df2subset = df2.loc[(df2['AGEGRP']==0)|(df2['AGEGRP']==1)]\n",
        "ax2 = sns.violinplot(data=df2subset, x='TRTMT',y='CREAT', hue='AGEGRP', split='True', palette='colorblind')\n",
        "ax2.set(xlabel = 'Type of Intervention', ylabel = 'Serum creatinine (mg/dl)')\n",
        "plt.xticks(ticks=[0,1], labels=['Placebo','Digoxin'])\n",
        "handles, labels = ax2.get_legend_handles_labels()\n",
        "labels = ['< 65 years', '>= 65 years']\n",
        "ax2.legend(handles, labels, title='Age Group', bbox_to_anchor=(1, 0.5))\n",
        "plt.savefig(fig2output, bbox_inches='tight')"
      ],
      "metadata": {
        "colab": {
          "base_uri": "https://localhost:8080/",
          "height": 458
        },
        "id": "uiZSQ69EO6Nh",
        "outputId": "8230e19b-8dc0-40f2-f841-3d3842643726"
      },
      "execution_count": 177,
      "outputs": [
        {
          "output_type": "display_data",
          "data": {
            "text/plain": [
              "<Figure size 640x480 with 1 Axes>"
            ],
            "image/png": "[encoded data removed]"
          },
          "metadata": {}
        }
      ]
    },
    {
      "cell_type": "markdown",
      "source": [
        "Creating a probability matrix to calculate probability of death as an outcome based on type of intervention (placebo or digoxin)"
      ],
      "metadata": {
        "id": "0qxX9WzAC0wg"
      }
    },
    {
      "cell_type": "code",
      "source": [
        "#creating a count matrix of treatment group assignment and death as an outcome\n",
        "outcome = pd.crosstab(df1.TRTMT,df1.DEATH,margins=True)\n",
        "\n",
        "#creating a probability matrix\n",
        "prob_outcome = probabilitycrosstab(outcome)"
      ],
      "metadata": {
        "colab": {
          "base_uri": "https://localhost:8080/",
          "height": 175
        },
        "id": "n-87F8-aC1WY",
        "outputId": "33e13058-d9d2-4503-f3e0-08374c88d67c"
      },
      "execution_count": 170,
      "outputs": [
        {
          "output_type": "execute_result",
          "data": {
            "text/plain": [
              "DEATH         0         1       All\n",
              "TRTMT                              \n",
              "0      0.325122  0.173789  0.498911\n",
              "1      0.326295  0.174795  0.501089\n",
              "All    0.651416  0.348584  1.000000"
            ],
            "text/html": [
              "\n",
              "  <div id=\"df-3ec487e2-0e24-4ba3-8b70-b28ab7840ede\" class=\"colab-df-container\">\n",
              "    <div>\n",
              "<style scoped>\n",
              "    .dataframe tbody tr th:only-of-type {\n",
              "        vertical-align: middle;\n",
              "    }\n",
              "\n",
              "    .dataframe tbody tr th {\n",
              "        vertical-align: top;\n",
              "    }\n",
              "\n",
              "    .dataframe thead th {\n",
              "        text-align: right;\n",
              "    }\n",
              "</style>\n",
              "<table border=\"1\" class=\"dataframe\">\n",
              "  <thead>\n",
              "    <tr style=\"text-align: right;\">\n",
              "      <th>DEATH</th>\n",
              "      <th>0</th>\n",
              "      <th>1</th>\n",
              "      <th>All</th>\n",
              "    </tr>\n",
              "    <tr>\n",
              "      <th>TRTMT</th>\n",
              "      <th></th>\n",
              "      <th></th>\n",
              "      <th></th>\n",
              "    </tr>\n",
              "  </thead>\n",
              "  <tbody>\n",
              "    <tr>\n",
              "      <th>0</th>\n",
              "      <td>0.325122</td>\n",
              "      <td>0.173789</td>\n",
              "      <td>0.498911</td>\n",
              "    </tr>\n",
              "    <tr>\n",
              "      <th>1</th>\n",
              "      <td>0.326295</td>\n",
              "      <td>0.174795</td>\n",
              "      <td>0.501089</td>\n",
              "    </tr>\n",
              "    <tr>\n",
              "      <th>All</th>\n",
              "      <td>0.651416</td>\n",
              "      <td>0.348584</td>\n",
              "      <td>1.000000</td>\n",
              "    </tr>\n",
              "  </tbody>\n",
              "</table>\n",
              "</div>\n",
              "    <div class=\"colab-df-buttons\">\n",
              "\n",
              "  <div class=\"colab-df-container\">\n",
              "    <button class=\"colab-df-convert\" onclick=\"convertToInteractive('df-3ec487e2-0e24-4ba3-8b70-b28ab7840ede')\"\n",
              "            title=\"Convert this dataframe to an interactive table.\"\n",
              "            style=\"display:none;\">\n",
              "\n",
              "  <svg xmlns=\"http://www.w3.org/2000/svg\" height=\"24px\" viewBox=\"0 -960 960 960\">\n",
              "    <path d=\"M120-120v-720h720v720H120Zm60-500h600v-160H180v160Zm220 220h160v-160H400v160Zm0 220h160v-160H400v160ZM180-400h160v-160H180v160Zm440 0h160v-160H620v160ZM180-180h160v-160H180v160Zm440 0h160v-160H620v160Z\"/>\n",
              "  </svg>\n",
              "    </button>\n",
              "\n",
              "  <style>\n",
              "    .colab-df-container {\n",
              "      display:flex;\n",
              "      gap: 12px;\n",
              "    }\n",
              "\n",
              "    .colab-df-convert {\n",
              "      background-color: #E8F0FE;\n",
              "      border: none;\n",
              "      border-radius: 50%;\n",
              "      cursor: pointer;\n",
              "      display: none;\n",
              "      fill: #1967D2;\n",
              "      height: 32px;\n",
              "      padding: 0 0 0 0;\n",
              "      width: 32px;\n",
              "    }\n",
              "\n",
              "    .colab-df-convert:hover {\n",
              "      background-color: #E2EBFA;\n",
              "      box-shadow: 0px 1px 2px rgba(60, 64, 67, 0.3), 0px 1px 3px 1px rgba(60, 64, 67, 0.15);\n",
              "      fill: #174EA6;\n",
              "    }\n",
              "\n",
              "    .colab-df-buttons div {\n",
              "      margin-bottom: 4px;\n",
              "    }\n",
              "\n",
              "    [theme=dark] .colab-df-convert {\n",
              "      background-color: #3B4455;\n",
              "      fill: #D2E3FC;\n",
              "    }\n",
              "\n",
              "    [theme=dark] .colab-df-convert:hover {\n",
              "      background-color: #434B5C;\n",
              "      box-shadow: 0px 1px 3px 1px rgba(0, 0, 0, 0.15);\n",
              "      filter: drop-shadow(0px 1px 2px rgba(0, 0, 0, 0.3));\n",
              "      fill: #FFFFFF;\n",
              "    }\n",
              "  </style>\n",
              "\n",
              "    <script>\n",
              "      const buttonEl =\n",
              "        document.querySelector('#df-3ec487e2-0e24-4ba3-8b70-b28ab7840ede button.colab-df-convert');\n",
              "      buttonEl.style.display =\n",
              "        google.colab.kernel.accessAllowed ? 'block' : 'none';\n",
              "\n",
              "      async function convertToInteractive(key) {\n",
              "        const element = document.querySelector('#df-3ec487e2-0e24-4ba3-8b70-b28ab7840ede');\n",
              "        const dataTable =\n",
              "          await google.colab.kernel.invokeFunction('convertToInteractive',\n",
              "                                                    [key], {});\n",
              "        if (!dataTable) return;\n",
              "\n",
              "        const docLinkHtml = 'Like what you see? Visit the ' +\n",
              "          '<a target=\"_blank\" href=https://colab.research.google.com/notebooks/data_table.ipynb>data table notebook</a>'\n",
              "          + ' to learn more about interactive tables.';\n",
              "        element.innerHTML = '';\n",
              "        dataTable['output_type'] = 'display_data';\n",
              "        await google.colab.output.renderOutput(dataTable, element);\n",
              "        const docLink = document.createElement('div');\n",
              "        docLink.innerHTML = docLinkHtml;\n",
              "        element.appendChild(docLink);\n",
              "      }\n",
              "    </script>\n",
              "  </div>\n",
              "\n",
              "\n",
              "<div id=\"df-148e6d7d-594d-4f25-b485-436159545a01\">\n",
              "  <button class=\"colab-df-quickchart\" onclick=\"quickchart('df-148e6d7d-594d-4f25-b485-436159545a01')\"\n",
              "            title=\"Suggest charts\"\n",
              "            style=\"display:none;\">\n",
              "\n",
              "<svg xmlns=\"http://www.w3.org/2000/svg\" height=\"24px\"viewBox=\"0 0 24 24\"\n",
              "     width=\"24px\">\n",
              "    <g>\n",
              "        <path d=\"M19 3H5c-1.1 0-2 .9-2 2v14c0 1.1.9 2 2 2h14c1.1 0 2-.9 2-2V5c0-1.1-.9-2-2-2zM9 17H7v-7h2v7zm4 0h-2V7h2v10zm4 0h-2v-4h2v4z\"/>\n",
              "    </g>\n",
              "</svg>\n",
              "  </button>\n",
              "\n",
              "<style>\n",
              "  .colab-df-quickchart {\n",
              "      --bg-color: #E8F0FE;\n",
              "      --fill-color: #1967D2;\n",
              "      --hover-bg-color: #E2EBFA;\n",
              "      --hover-fill-color: #174EA6;\n",
              "      --disabled-fill-color: #AAA;\n",
              "      --disabled-bg-color: #DDD;\n",
              "  }\n",
              "\n",
              "  [theme=dark] .colab-df-quickchart {\n",
              "      --bg-color: #3B4455;\n",
              "      --fill-color: #D2E3FC;\n",
              "      --hover-bg-color: #434B5C;\n",
              "      --hover-fill-color: #FFFFFF;\n",
              "      --disabled-bg-color: #3B4455;\n",
              "      --disabled-fill-color: #666;\n",
              "  }\n",
              "\n",
              "  .colab-df-quickchart {\n",
              "    background-color: var(--bg-color);\n",
              "    border: none;\n",
              "    border-radius: 50%;\n",
              "    cursor: pointer;\n",
              "    display: none;\n",
              "    fill: var(--fill-color);\n",
              "    height: 32px;\n",
              "    padding: 0;\n",
              "    width: 32px;\n",
              "  }\n",
              "\n",
              "  .colab-df-quickchart:hover {\n",
              "    background-color: var(--hover-bg-color);\n",
              "    box-shadow: 0 1px 2px rgba(60, 64, 67, 0.3), 0 1px 3px 1px rgba(60, 64, 67, 0.15);\n",
              "    fill: var(--button-hover-fill-color);\n",
              "  }\n",
              "\n",
              "  .colab-df-quickchart-complete:disabled,\n",
              "  .colab-df-quickchart-complete:disabled:hover {\n",
              "    background-color: var(--disabled-bg-color);\n",
              "    fill: var(--disabled-fill-color);\n",
              "    box-shadow: none;\n",
              "  }\n",
              "\n",
              "  .colab-df-spinner {\n",
              "    border: 2px solid var(--fill-color);\n",
              "    border-color: transparent;\n",
              "    border-bottom-color: var(--fill-color);\n",
              "    animation:\n",
              "      spin 1s steps(1) infinite;\n",
              "  }\n",
              "\n",
              "  @keyframes spin {\n",
              "    0% {\n",
              "      border-color: transparent;\n",
              "      border-bottom-color: var(--fill-color);\n",
              "      border-left-color: var(--fill-color);\n",
              "    }\n",
              "    20% {\n",
              "      border-color: transparent;\n",
              "      border-left-color: var(--fill-color);\n",
              "      border-top-color: var(--fill-color);\n",
              "    }\n",
              "    30% {\n",
              "      border-color: transparent;\n",
              "      border-left-color: var(--fill-color);\n",
              "      border-top-color: var(--fill-color);\n",
              "      border-right-color: var(--fill-color);\n",
              "    }\n",
              "    40% {\n",
              "      border-color: transparent;\n",
              "      border-right-color: var(--fill-color);\n",
              "      border-top-color: var(--fill-color);\n",
              "    }\n",
              "    60% {\n",
              "      border-color: transparent;\n",
              "      border-right-color: var(--fill-color);\n",
              "    }\n",
              "    80% {\n",
              "      border-color: transparent;\n",
              "      border-right-color: var(--fill-color);\n",
              "      border-bottom-color: var(--fill-color);\n",
              "    }\n",
              "    90% {\n",
              "      border-color: transparent;\n",
              "      border-bottom-color: var(--fill-color);\n",
              "    }\n",
              "  }\n",
              "</style>\n",
              "\n",
              "  <script>\n",
              "    async function quickchart(key) {\n",
              "      const quickchartButtonEl =\n",
              "        document.querySelector('#' + key + ' button');\n",
              "      quickchartButtonEl.disabled = true;  // To prevent multiple clicks.\n",
              "      quickchartButtonEl.classList.add('colab-df-spinner');\n",
              "      try {\n",
              "        const charts = await google.colab.kernel.invokeFunction(\n",
              "            'suggestCharts', [key], {});\n",
              "      } catch (error) {\n",
              "        console.error('Error during call to suggestCharts:', error);\n",
              "      }\n",
              "      quickchartButtonEl.classList.remove('colab-df-spinner');\n",
              "      quickchartButtonEl.classList.add('colab-df-quickchart-complete');\n",
              "    }\n",
              "    (() => {\n",
              "      let quickchartButtonEl =\n",
              "        document.querySelector('#df-148e6d7d-594d-4f25-b485-436159545a01 button');\n",
              "      quickchartButtonEl.style.display =\n",
              "        google.colab.kernel.accessAllowed ? 'block' : 'none';\n",
              "    })();\n",
              "  </script>\n",
              "</div>\n",
              "    </div>\n",
              "  </div>\n"
            ]
          },
          "metadata": {},
          "execution_count": 170
        }
      ]
    },
    {
      "cell_type": "code",
      "source": [
        "#saving matrix to .csv\n",
        "prob_outcome.to_csv(probmatrixoutput, index=False)"
      ],
      "metadata": {
        "id": "ft7fV_BjJfWv"
      },
      "execution_count": 178,
      "outputs": []
    },
    {
      "cell_type": "markdown",
      "source": [
        "Completing GitHub repo:"
      ],
      "metadata": {
        "id": "yvifwx7RKSxy"
      }
    },
    {
      "cell_type": "code",
      "source": [
        "%%bash\n",
        "cd code\n",
        "cat > README.md\n",
        "This folder contains the colab notebook analysis as an .ipynb file"
      ],
      "metadata": {
        "id": "1jEL9bzwKWR5"
      },
      "execution_count": 179,
      "outputs": []
    },
    {
      "cell_type": "code",
      "source": [
        "%%bash\n",
        "cd figures\n",
        "cat > README.md\n",
        "This folder contains two figures:\n",
        "CREATbytreatmentgroupbyagegroup - this figure compares the creatinine levels in each treatment group (placebo and digoxin) categorized by age group\n",
        "WHFbytreatmentgroup - this figure compares the number of patients who did or did not experience worsening heart failure by age group"
      ],
      "metadata": {
        "id": "R6ya_XPGKrbA"
      },
      "execution_count": 180,
      "outputs": []
    },
    {
      "cell_type": "code",
      "source": [
        "%%bash\n",
        "cd statistics\n",
        "cat > README.md\n",
        "This folder contains a probability matrix as a .csv file\n",
        "The probability matrix represents the joint and marginal probabilities of death or no death by treatment group"
      ],
      "metadata": {
        "id": "y-S7gQS3LLuX"
      },
      "execution_count": 181,
      "outputs": []
    },
    {
      "cell_type": "code",
      "source": [
        "%%bash\n",
        "cd startingdata\n",
        "cat > README.md\n",
        "This folder contains the initial dataframe used for all analysis and figure generation"
      ],
      "metadata": {
        "id": "PWRp6tPBL8h_"
      },
      "execution_count": 184,
      "outputs": []
    },
    {
      "cell_type": "markdown",
      "source": [
        "Setting Identity"
      ],
      "metadata": {
        "id": "FkN3qoXaAAj4"
      }
    },
    {
      "cell_type": "code",
      "source": [
        "%%bash\n",
        "git config --global user.email \"divgi@usc.edu\"\n",
        "git config --global user.name \"KDivgi\""
      ],
      "metadata": {
        "id": "PI0v0VFi3un8"
      },
      "execution_count": 187,
      "outputs": []
    },
    {
      "cell_type": "code",
      "source": [
        "#adding files\n",
        "%%bash\n"
      ],
      "metadata": {
        "id": "W537BabWM040"
      },
      "execution_count": null,
      "outputs": []
    }
  ]
}